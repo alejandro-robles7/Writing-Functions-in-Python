{
 "cells": [
  {
   "cell_type": "markdown",
   "metadata": {
    "collapsed": true,
    "pycharm": {
     "name": "#%% md\n"
    }
   },
   "source": [
    "# Best Practices\n",
    "The goal of this course is to transform you into a Python expert, and so the first chapter starts off with best\n",
    "practices when writing functions. We'll cover docstrings and why they matter and how to know when you need to turn a\n",
    "chunk of code into a function. You will also learn the details of how Python passes arguments to functions, as well as\n",
    "some common gotchas that can cause debugging headaches when calling functions."
   ]
  },
  {
   "cell_type": "markdown",
   "source": [
    "## Crafting a docstring\n",
    "You've decided to write the world's greatest open-source natural language processing Python package. It will\n",
    "revolutionize working with free-form text, the way numpy did for arrays, pandas did for tabular data, and scikit-learn\n",
    "did for machine learning.\n",
    "\n",
    "The first function you write is count_letter(). It takes a string and a single letter and returns the number of times\n",
    "the letter appears in the string. You want the users of your open-source package to be able to understand how this\n",
    "function works easily, so you will need to give it a docstring. Build up a Google Style docstring for this function by\n",
    "following these steps."
   ],
   "metadata": {
    "collapsed": false,
    "pycharm": {
     "name": "#%% md\n"
    }
   }
  },
  {
   "cell_type": "code",
   "source": [
    "def count_letter(content, letter):\n",
    "  \"\"\"Count the number of times `letter` appears in `content`.\n",
    "\n",
    "  Args:\n",
    "    content (str): The string to search.\n",
    "    letter (str): The letter to search for.\n",
    "\n",
    "  Returns:\n",
    "    int\n",
    "\n",
    "  # Add a section detailing what errors might be raised\n",
    "  Raises:\n",
    "    ValueError: If `letter` is not a one-character string.\n",
    "  \"\"\"\n",
    "  if (not isinstance(letter, str)) or len(letter) != 1:\n",
    "    raise ValueError('`letter` must be a single character string.')\n",
    "  return len([char for char in content if char == letter])"
   ],
   "metadata": {
    "collapsed": false,
    "pycharm": {
     "name": "#%%\n"
    }
   },
   "execution_count": 1,
   "outputs": []
  },
  {
   "cell_type": "markdown",
   "source": [
    "While it does require a bit more typing, the information presented here will make it very easy for others to use this\n",
    "code in the future. Remember that even though computers execute it, code is actually written for humans to read\n",
    "(otherwise you'd just be writing the 1s and 0s that the computer operates on)."
   ],
   "metadata": {
    "collapsed": false
   }
  },
  {
   "cell_type": "markdown",
   "source": [
    "## Retrieving docstrings\n",
    "You and a group of friends are working on building an amazing new Python IDE (integrated development environment -- like PyCharm, Spyder, Eclipse, Visual Studio, etc.). The team wants to add a feature that displays a tooltip with a function's docstring whenever the user starts typing the function name. That way, the user doesn't have to go elsewhere to look up the documentation for the function they are trying to use. You've been asked to complete the build_tooltip() function that retrieves a docstring from an arbitrary function.\n",
    "\n",
    "Note that in Python, you can pass a function as an argument to another function. I'll talk more about this in chapter 3, but it will be useful to keep in mind for this exercise."
   ],
   "metadata": {
    "collapsed": false,
    "pycharm": {
     "name": "#%% md\n"
    }
   }
  },
  {
   "cell_type": "code",
   "execution_count": 2,
   "outputs": [
    {
     "name": "stdout",
     "output_type": "stream",
     "text": [
      "############################\n",
      "Count the number of times `letter` appears in `content`.\n",
      "\n",
      "  Args:\n",
      "    content (str): The string to search.\n",
      "    letter (str): The letter to search for.\n",
      "\n",
      "  Returns:\n",
      "    int\n",
      "\n",
      "  # Add a section detailing what errors might be raised\n",
      "  Raises:\n",
      "    ValueError: If `letter` is not a one-character string.\n",
      "  \n",
      "############################\n",
      "############################\n",
      "Count the number of times `letter` appears in `content`.\n",
      "\n",
      "Args:\n",
      "  content (str): The string to search.\n",
      "  letter (str): The letter to search for.\n",
      "\n",
      "Returns:\n",
      "  int\n",
      "\n",
      "# Add a section detailing what errors might be raised\n",
      "Raises:\n",
      "  ValueError: If `letter` is not a one-character string.\n",
      "############################\n",
      "############################\n",
      "Count the number of times `letter` appears in `content`.\n",
      "\n",
      "Args:\n",
      "  content (str): The string to search.\n",
      "  letter (str): The letter to search for.\n",
      "\n",
      "Returns:\n",
      "  int\n",
      "\n",
      "# Add a section detailing what errors might be raised\n",
      "Raises:\n",
      "  ValueError: If `letter` is not a one-character string.\n",
      "############################\n",
      "############################\n",
      "range(stop) -> range object\n",
      "range(start, stop[, step]) -> range object\n",
      "\n",
      "Return an object that produces a sequence of integers from start (inclusive)\n",
      "to stop (exclusive) by step.  range(i, j) produces i, i+1, i+2, ..., j-1.\n",
      "start defaults to 0, and stop is omitted!  range(4) produces 0, 1, 2, 3.\n",
      "These are exactly the valid indices for a list of 4 elements.\n",
      "When step is given, it specifies the increment (or decrement).\n",
      "############################\n",
      "############################\n",
      "print(value, ..., sep=' ', end='\\n', file=sys.stdout, flush=False)\n",
      "\n",
      "Prints the values to a stream, or to sys.stdout by default.\n",
      "Optional keyword arguments:\n",
      "file:  a file-like object (stream); defaults to the current sys.stdout.\n",
      "sep:   string inserted between values, default a space.\n",
      "end:   string appended after the last value, default a newline.\n",
      "flush: whether to forcibly flush the stream.\n",
      "############################\n"
     ]
    }
   ],
   "source": [
    "# Get the docstring with an attribute of count_letter()\n",
    "docstring = count_letter.__doc__\n",
    "\n",
    "border = '#' * 28\n",
    "print('{}\\n{}\\n{}'.format(border, docstring, border))\n",
    "\n",
    "import inspect\n",
    "\n",
    "# Get the docstring with a function from the inspect module\n",
    "docstring = inspect.getdoc(count_letter)\n",
    "\n",
    "border = '#' * 28\n",
    "print('{}\\n{}\\n{}'.format(border, docstring, border))\n",
    "\n",
    "def build_tooltip(function):\n",
    "  \"\"\"Create a tooltip for any function that shows the\n",
    "  function's docstring.\n",
    "\n",
    "  Args:\n",
    "    function (callable): The function we want a tooltip for.\n",
    "\n",
    "  Returns:\n",
    "    str\n",
    "  \"\"\"\n",
    "  # Use 'inspect' to get the docstring\n",
    "  docstring = inspect.getdoc(function)\n",
    "  border = '#' * 28\n",
    "  return '{}\\n{}\\n{}'.format(border, docstring, border)\n",
    "\n",
    "print(build_tooltip(count_letter))\n",
    "print(build_tooltip(range))\n",
    "print(build_tooltip(print))"
   ],
   "metadata": {
    "collapsed": false,
    "pycharm": {
     "name": "#%%\n"
    }
   }
  },
  {
   "cell_type": "markdown",
   "source": [
    "This IDE is going to be an incredibly delightful experience for your users now! Notice how the count_letter.__doc__ version of the docstring had strange whitespace at the beginning of all but the first line. That's because the docstring is indented to line up visually when reading the code. But when we want to print the docstring, removing those leading spaces with inspect.getdoc() will look much better."
   ],
   "metadata": {
    "collapsed": false
   }
  },
  {
   "cell_type": "markdown",
   "source": [
    "## Extract a function\n",
    "While you were developing a model to predict the likelihood of a student graduating from college, you wrote this bit of code to get the z-scores of students' yearly GPAs. Now you're ready to turn it into a production-quality system, so you need to do something about the repetition. Writing a function to calculate the z-scores would improve this code.\n",
    "\n",
    "```python\n",
    "# Standardize the GPAs for each year\n",
    "df['y1_z'] = (df.y1_gpa - df.y1_gpa.mean()) / df.y1_gpa.std()\n",
    "df['y2_z'] = (df.y2_gpa - df.y2_gpa.mean()) / df.y2_gpa.std()\n",
    "df['y3_z'] = (df.y3_gpa - df.y3_gpa.mean()) / df.y3_gpa.std()\n",
    "df['y4_z'] = (df.y4_gpa - df.y4_gpa.mean()) / df.y4_gpa.std()\n",
    "```\n",
    "Note: df is a pandas DataFrame where each row is a student with 4 columns of yearly student GPAs: y1_gpa, y2_gpa, y3_gpa, y4_gpa\n"
   ],
   "metadata": {
    "collapsed": false,
    "pycharm": {
     "name": "#%% md\n"
    }
   }
  },
  {
   "cell_type": "code",
   "execution_count": 3,
   "outputs": [],
   "source": [
    "from pandas import DataFrame\n",
    "def standardize(column):\n",
    "  \"\"\"Standardize the values in a column.\n",
    "\n",
    "  Args:\n",
    "    column (pandas Series): The data to standardize.\n",
    "\n",
    "  Returns:\n",
    "    pandas Series: the values as z-scores\n",
    "  \"\"\"\n",
    "  # Finish the function so that it returns the z-scores\n",
    "  z_score = (column - column.mean()) / column.std()\n",
    "  return z_score\n",
    "\n",
    "# Use the standardize() function to calculate the z-scores\n",
    "df = DataFrame({'y1_gpa': [2.7858767423914466, 1.1445573398015179, 0.9074058142568124, 2.205259076331565, 2.8778758791422523],\n",
    "                'y2_gpa': [2.0525126167960086, 2.6664982006562865, 0.4236339402272553, 0.523579802656323, 1.2879224258732322],\n",
    "                'y3_gpa': [2.170543703154024, 0.2670977729000188, 2.6134594854121627, 3.9843453094713017, 3.077589348295849],\n",
    "                'y4_gpa': [0.06556992350372548, 2.884737464202427, 0.03095005650361582, 0.3392891097809345, 0.9019936418000944]\n",
    "                })\n",
    "df['y1_z'] = standardize(df.y1_gpa)\n",
    "df['y2_z'] = standardize(df.y2_gpa)\n",
    "df['y3_z'] = standardize(df.y3_gpa)\n",
    "df['y4_z'] = standardize(df.y4_gpa)"
   ],
   "metadata": {
    "collapsed": false,
    "pycharm": {
     "name": "#%%\n"
    }
   }
  },
  {
   "cell_type": "markdown",
   "source": [
    "standardize() will probably be useful in other places in your code, and now it is easy to use, test, and update if you need to. It's also easier to tell what the code is doing because of the docstring and the name of the function."
   ],
   "metadata": {
    "collapsed": false,
    "pycharm": {
     "name": "#%% md\n"
    }
   }
  },
  {
   "cell_type": "markdown",
   "source": [
    "## Split up a function\n",
    "Another engineer on your team has written this function to calculate the mean and median of a list. You want to show them how to split it into two simpler functions: mean() and median()\n",
    "\n",
    "```python\n",
    "def mean_and_median(values):\n",
    "  \"\"\"Get the mean and median of a list of `values`\n",
    "\n",
    "  Args:\n",
    "    values (iterable of float): A list of numbers\n",
    "\n",
    "  Returns:\n",
    "    tuple (float, float): The mean and median\n",
    "  \"\"\"\n",
    "  mean = sum(values) / len(values)\n",
    "  midpoint = int(len(values) / 2)\n",
    "  if len(values) % 2 == 0:\n",
    "    median = (values[midpoint - 1] + values[midpoint]) / 2\n",
    "  else:\n",
    "    median = values[midpoint]\n",
    "\n",
    "  return mean, median\n",
    "```"
   ],
   "metadata": {
    "collapsed": false,
    "pycharm": {
     "name": "#%% md\n"
    }
   }
  },
  {
   "cell_type": "code",
   "execution_count": 4,
   "outputs": [],
   "source": [
    "def mean(values):\n",
    "  \"\"\"Get the mean of a list of values\n",
    "\n",
    "  Args:\n",
    "    values (iterable of float): A list of numbers\n",
    "\n",
    "  Returns:\n",
    "    float\n",
    "  \"\"\"\n",
    "  # Write the mean() function\n",
    "  mean = sum(values) / len(values)\n",
    "  return mean\n",
    "\n",
    "def median(values):\n",
    "  \"\"\"Get the median of a list of values\n",
    "\n",
    "  Args:\n",
    "    values (iterable of float): A list of numbers\n",
    "\n",
    "  Returns:\n",
    "    float\n",
    "  \"\"\"\n",
    "  # Write the median() function\n",
    "  midpoint = int(len(values) / 2)\n",
    "  if len(values) % 2 == 0:\n",
    "    median = (values[midpoint - 1] + values[midpoint]) / 2\n",
    "  else:\n",
    "    median = values[midpoint]\n",
    "\n",
    "  return median"
   ],
   "metadata": {
    "collapsed": false,
    "pycharm": {
     "name": "#%%\n"
    }
   }
  },
  {
   "cell_type": "markdown",
   "source": [
    "A perfect split! Each function does one thing and does it well. Using, testing, and maintaining these will be a breeze (although you'll probably just use numpy.mean() and numpy.median() for this in real life)."
   ],
   "metadata": {
    "collapsed": false,
    "pycharm": {
     "name": "#%% md\n"
    }
   }
  },
  {
   "cell_type": "markdown",
   "source": [
    "## Best practice for default arguments\n",
    "One of your co-workers (who obviously didn't take this course) has written this function for adding a column to a panda's DataFrame. Unfortunately, they used a mutable variable as a default argument value! Please show them a better way to do this so that they don't get unexpected behavior.\n",
    "\n",
    "```python\n",
    "def add_column(values, df=pandas.DataFrame()):\n",
    "  \"\"\"Add a column of `values` to a DataFrame `df`.\n",
    "  The column will be named \"col_<n>\" where \"n\" is\n",
    "  the numerical index of the column.\n",
    "\n",
    "  Args:\n",
    "    values (iterable): The values of the new column\n",
    "    df (DataFrame, optional): The DataFrame to update.\n",
    "      If no DataFrame is passed, one is created by default.\n",
    "\n",
    "  Returns:\n",
    "    DataFrame\n",
    "  \"\"\"\n",
    "  df['col_{}'.format(len(df.columns))] = values\n",
    "  return df\n",
    "```"
   ],
   "metadata": {
    "collapsed": false,
    "pycharm": {
     "name": "#%% md\n"
    }
   }
  },
  {
   "cell_type": "code",
   "execution_count": 5,
   "outputs": [],
   "source": [
    "import pandas\n",
    "\n",
    "# Use an immutable variable for the default argument\n",
    "def better_add_column(values, df=None):\n",
    "  \"\"\"Add a column of `values` to a DataFrame `df`.\n",
    "  The column will be named \"col_<n>\" where \"n\" is\n",
    "  the numerical index of the column.\n",
    "\n",
    "  Args:\n",
    "    values (iterable): The values of the new column\n",
    "    df (DataFrame, optional): The DataFrame to update.\n",
    "      If no DataFrame is passed, one is created by default.\n",
    "\n",
    "  Returns:\n",
    "    DataFrame\n",
    "  \"\"\"\n",
    "  # Update the function to create a default DataFrame\n",
    "  if df is None:\n",
    "    df = pandas.DataFrame()\n",
    "  df['col_{}'.format(len(df.columns))] = values\n",
    "  return df"
   ],
   "metadata": {
    "collapsed": false,
    "pycharm": {
     "name": "#%%\n"
    }
   }
  },
  {
   "cell_type": "markdown",
   "source": [
    "When you need to set a mutable variable as a default argument, always use None and then set the value in the body of the function. This prevents unexpected behavior like adding multiple columns if you call the function more than once.\n"
   ],
   "metadata": {
    "collapsed": false,
    "pycharm": {
     "name": "#%% md\n"
    }
   }
  }
 ],
 "metadata": {
  "kernelspec": {
   "display_name": "Python 3",
   "language": "python",
   "name": "python3"
  },
  "language_info": {
   "codemirror_mode": {
    "name": "ipython",
    "version": 2
   },
   "file_extension": ".py",
   "mimetype": "text/x-python",
   "name": "python",
   "nbconvert_exporter": "python",
   "pygments_lexer": "ipython2",
   "version": "2.7.6"
  }
 },
 "nbformat": 4,
 "nbformat_minor": 0
}